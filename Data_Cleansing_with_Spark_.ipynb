{
  "nbformat": 4,
  "nbformat_minor": 0,
  "metadata": {
    "colab": {
      "name": " Data Cleansing with Spark .ipynb",
      "provenance": [],
      "authorship_tag": "ABX9TyP4ssHSTRZeYEUbkPd4ZAdc",
      "include_colab_link": true
    },
    "kernelspec": {
      "name": "python3",
      "display_name": "Python 3"
    },
    "language_info": {
      "name": "python"
    }
  },
  "cells": [
    {
      "cell_type": "markdown",
      "metadata": {
        "id": "view-in-github",
        "colab_type": "text"
      },
      "source": [
        "<a href=\"https://colab.research.google.com/github/frong123nk/Data_Cleansing/blob/main/Data_Cleansing_with_Spark_.ipynb\" target=\"_parent\"><img src=\"https://colab.research.google.com/assets/colab-badge.svg\" alt=\"Open In Colab\"/></a>"
      ]
    },
    {
      "cell_type": "markdown",
      "metadata": {
        "id": "uctF8l3rhuzq"
      },
      "source": [
        "**Data from**\n",
        "https://archive.ics.uci.edu/ml/datasets/Online+Retail"
      ]
    },
    {
      "cell_type": "markdown",
      "metadata": {
        "id": "NItOmIb5x4tW"
      },
      "source": [
        "### setup library"
      ]
    },
    {
      "cell_type": "code",
      "metadata": {
        "id": "3QFbo-_udhgg"
      },
      "source": [
        "!apt-get update\n",
        "!apt-get install openjdk-8-jdk-headless -qq > /dev/null\n",
        "!wget -q https://archive.apache.org/dist/spark/spark-3.1.2/spark-3.1.2-bin-hadoop2.7.tgz\n",
        "!tar xzvf spark-3.1.2-bin-hadoop2.7.tgz\n",
        "!pip install -q findspark==1.3.0"
      ],
      "execution_count": null,
      "outputs": []
    },
    {
      "cell_type": "code",
      "metadata": {
        "id": "sO2z4eeoizyG"
      },
      "source": [
        "# Set enviroment variable for Spark\n",
        "import os\n",
        "os.environ[\"JAVA_HOME\"] = \"/usr/lib/jvm/java-8-openjdk-amd64\"\n",
        "os.environ[\"SPARK_HOME\"] = \"/content/spark-3.1.2-bin-hadoop2.7\""
      ],
      "execution_count": 2,
      "outputs": []
    },
    {
      "cell_type": "code",
      "metadata": {
        "id": "YTtB-sM7i9Hf"
      },
      "source": [
        "# pip pyspark\n",
        "!pip install pyspark==3.1.2"
      ],
      "execution_count": null,
      "outputs": []
    },
    {
      "cell_type": "code",
      "metadata": {
        "id": "tuHhISV1kJNK"
      },
      "source": [
        "#Spark Session\n",
        "from pyspark.sql import SparkSession\n",
        "spark = SparkSession.builder.master(\"local[*]\").getOrCreate()\n",
        "spark.conf.set(\"spark.sql.legacy.timeParserPolicy\", \"legacy\")"
      ],
      "execution_count": 6,
      "outputs": []
    },
    {
      "cell_type": "code",
      "metadata": {
        "colab": {
          "base_uri": "https://localhost:8080/"
        },
        "id": "HN6NkmaVkRa9",
        "outputId": "c4e0bda4-cb17-40b7-ddd5-0e9c848d8649"
      },
      "source": [
        "import sys\n",
        "sys.version_info"
      ],
      "execution_count": 9,
      "outputs": [
        {
          "output_type": "execute_result",
          "data": {
            "text/plain": [
              "sys.version_info(major=3, minor=7, micro=11, releaselevel='final', serial=0)"
            ]
          },
          "metadata": {
            "tags": []
          },
          "execution_count": 9
        }
      ]
    },
    {
      "cell_type": "code",
      "metadata": {
        "colab": {
          "base_uri": "https://localhost:8080/",
          "height": 35
        },
        "id": "KR5x-ct-k2qp",
        "outputId": "04a6c409-52cc-4757-dde3-67a8faf9879e"
      },
      "source": [
        "spark.version"
      ],
      "execution_count": 10,
      "outputs": [
        {
          "output_type": "execute_result",
          "data": {
            "application/vnd.google.colaboratory.intrinsic+json": {
              "type": "string"
            },
            "text/plain": [
              "'3.1.2'"
            ]
          },
          "metadata": {
            "tags": []
          },
          "execution_count": 10
        }
      ]
    },
    {
      "cell_type": "code",
      "metadata": {
        "colab": {
          "base_uri": "https://localhost:8080/"
        },
        "id": "ooA2621wk7Gu",
        "outputId": "256712ae-c1ae-405c-8e64-f44555d2a0f3"
      },
      "source": [
        "# Google colab connect to Google Drive\n",
        "from google.colab import drive\n",
        "drive.mount('/content/drive')"
      ],
      "execution_count": 11,
      "outputs": [
        {
          "output_type": "stream",
          "text": [
            "Mounted at /content/drive\n"
          ],
          "name": "stdout"
        }
      ]
    },
    {
      "cell_type": "markdown",
      "metadata": {
        "id": "ff5a4kYXx-a7"
      },
      "source": [
        "### Load data"
      ]
    },
    {
      "cell_type": "code",
      "metadata": {
        "id": "GfzVQLbjlJMv"
      },
      "source": [
        "#Load data\n",
        "dt = spark.read.csv('/content/drive/My Drive/data_cleansing/Online Retail.csv', header = True, inferSchema = True, )"
      ],
      "execution_count": 12,
      "outputs": []
    },
    {
      "cell_type": "code",
      "metadata": {
        "colab": {
          "base_uri": "https://localhost:8080/"
        },
        "id": "RS_x_edcnYj3",
        "outputId": "671e691a-3b35-4ffd-d37f-0c80eb0580b9"
      },
      "source": [
        "#check type\n",
        "dt.dtypes "
      ],
      "execution_count": 13,
      "outputs": [
        {
          "output_type": "execute_result",
          "data": {
            "text/plain": [
              "[('InvoiceNo', 'string'),\n",
              " ('StockCode', 'string'),\n",
              " ('Description', 'string'),\n",
              " ('Quantity', 'int'),\n",
              " ('InvoiceDate', 'string'),\n",
              " ('UnitPrice', 'double'),\n",
              " ('CustomerID', 'double'),\n",
              " ('Country', 'string')]"
            ]
          },
          "metadata": {
            "tags": []
          },
          "execution_count": 13
        }
      ]
    },
    {
      "cell_type": "code",
      "metadata": {
        "colab": {
          "base_uri": "https://localhost:8080/"
        },
        "id": "KoxvLJFZnbP6",
        "outputId": "476c8396-ee57-48da-8696-606b967b4a5c"
      },
      "source": [
        "dt.show(10)"
      ],
      "execution_count": 14,
      "outputs": [
        {
          "output_type": "stream",
          "text": [
            "+---------+---------+--------------------+--------+---------------+---------+----------+--------------+\n",
            "|InvoiceNo|StockCode|         Description|Quantity|    InvoiceDate|UnitPrice|CustomerID|       Country|\n",
            "+---------+---------+--------------------+--------+---------------+---------+----------+--------------+\n",
            "|   536365|   85123A|WHITE HANGING HEA...|       6|1/12/2018 08:26|     2.55|   17850.0|United Kingdom|\n",
            "|   536365|    71053| WHITE METAL LANTERN|       6|1/12/2018 08:26|     3.39|   17850.0|United Kingdom|\n",
            "|   536365|   84406B|CREAM CUPID HEART...|       8|1/12/2018 08:26|     2.75|   17850.0|United Kingdom|\n",
            "|   536365|   84029G|KNITTED UNION FLA...|       6|1/12/2018 08:26|     3.39|   17850.0|United Kingdom|\n",
            "|   536365|   84029E|RED WOOLLY HOTTIE...|       6|1/12/2018 08:26|     3.39|   17850.0|United Kingdom|\n",
            "|   536365|    22752|SET 7 BABUSHKA NE...|       2|1/12/2018 08:26|     7.65|   17850.0|United Kingdom|\n",
            "|   536365|    21730|GLASS STAR FROSTE...|       6|1/12/2018 08:26|     4.25|   17850.0|United Kingdom|\n",
            "|   536366|    22633|HAND WARMER UNION...|       6|1/12/2018 08:28|     1.85|   17850.0|United Kingdom|\n",
            "|   536366|    22632|HAND WARMER RED P...|       6|1/12/2018 08:28|     1.85|   17850.0|United Kingdom|\n",
            "|   536367|    84879|ASSORTED COLOUR B...|      32|1/12/2018 08:34|     1.69|   13047.0|United Kingdom|\n",
            "+---------+---------+--------------------+--------+---------------+---------+----------+--------------+\n",
            "only showing top 10 rows\n",
            "\n"
          ],
          "name": "stdout"
        }
      ]
    },
    {
      "cell_type": "code",
      "metadata": {
        "colab": {
          "base_uri": "https://localhost:8080/"
        },
        "id": "5btkOfphnfrM",
        "outputId": "c8a6b545-e935-45f0-de1f-94d43c8bd785"
      },
      "source": [
        "# count total data and columns\n",
        "print((dt.count(), len(dt.columns)))"
      ],
      "execution_count": 15,
      "outputs": [
        {
          "output_type": "stream",
          "text": [
            "(541909, 8)\n"
          ],
          "name": "stdout"
        }
      ]
    },
    {
      "cell_type": "markdown",
      "metadata": {
        "id": "qsgM-mo2oWqp"
      },
      "source": [
        "###Type Conversion\n",
        "\n",
        "\n",
        "\n"
      ]
    },
    {
      "cell_type": "code",
      "metadata": {
        "colab": {
          "base_uri": "https://localhost:8080/"
        },
        "id": "kEQw11LIn3zM",
        "outputId": "2b304be1-b688-4537-d7d3-96c4c53757ee"
      },
      "source": [
        "# Show unique Invoice Date\n",
        "dt.select(\"InvoiceDate\").distinct().show(5)"
      ],
      "execution_count": 16,
      "outputs": [
        {
          "output_type": "stream",
          "text": [
            "+----------------+\n",
            "|     InvoiceDate|\n",
            "+----------------+\n",
            "| 2/12/2018 11:23|\n",
            "| 6/12/2018 13:41|\n",
            "| 9/12/2018 14:44|\n",
            "|13/12/2018 13:09|\n",
            "|13/12/2018 16:46|\n",
            "+----------------+\n",
            "only showing top 5 rows\n",
            "\n"
          ],
          "name": "stdout"
        }
      ]
    },
    {
      "cell_type": "code",
      "metadata": {
        "colab": {
          "base_uri": "https://localhost:8080/"
        },
        "id": "k871Bq2Soe6g",
        "outputId": "34ef25dd-cf64-4368-d3f0-247b9959fff5"
      },
      "source": [
        "# convert string to date\n",
        "# date formate => DD/MM/YYYY\n",
        "from pyspark.sql import functions as f\n",
        "\n",
        "dt_temp = dt.withColumn('InvoiceDateTime', \n",
        "    f.unix_timestamp('InvoiceDate', 'dd/MM/yyyy HH:mm').cast('timestamp')\n",
        ")\n",
        "dt_final = dt_temp.drop('InvoiceDate')\n",
        "dt_final.show(5)"
      ],
      "execution_count": 19,
      "outputs": [
        {
          "output_type": "stream",
          "text": [
            "+---------+---------+--------------------+--------+---------+----------+--------------+-------------------+\n",
            "|InvoiceNo|StockCode|         Description|Quantity|UnitPrice|CustomerID|       Country|    InvoiceDateTime|\n",
            "+---------+---------+--------------------+--------+---------+----------+--------------+-------------------+\n",
            "|   536365|   85123A|WHITE HANGING HEA...|       6|     2.55|   17850.0|United Kingdom|2018-12-01 08:26:00|\n",
            "|   536365|    71053| WHITE METAL LANTERN|       6|     3.39|   17850.0|United Kingdom|2018-12-01 08:26:00|\n",
            "|   536365|   84406B|CREAM CUPID HEART...|       8|     2.75|   17850.0|United Kingdom|2018-12-01 08:26:00|\n",
            "|   536365|   84029G|KNITTED UNION FLA...|       6|     3.39|   17850.0|United Kingdom|2018-12-01 08:26:00|\n",
            "|   536365|   84029E|RED WOOLLY HOTTIE...|       6|     3.39|   17850.0|United Kingdom|2018-12-01 08:26:00|\n",
            "+---------+---------+--------------------+--------+---------+----------+--------------+-------------------+\n",
            "only showing top 5 rows\n",
            "\n"
          ],
          "name": "stdout"
        }
      ]
    },
    {
      "cell_type": "code",
      "metadata": {
        "colab": {
          "base_uri": "https://localhost:8080/"
        },
        "id": "RSXM9ibIpH22",
        "outputId": "26f159b9-73b8-4615-f23f-181ea5cbb716"
      },
      "source": [
        "#show schema\n",
        "dt_final.printSchema()"
      ],
      "execution_count": 18,
      "outputs": [
        {
          "output_type": "stream",
          "text": [
            "root\n",
            " |-- InvoiceNo: string (nullable = true)\n",
            " |-- StockCode: string (nullable = true)\n",
            " |-- Description: string (nullable = true)\n",
            " |-- Quantity: integer (nullable = true)\n",
            " |-- UnitPrice: double (nullable = true)\n",
            " |-- CustomerID: double (nullable = true)\n",
            " |-- Country: string (nullable = true)\n",
            " |-- InvoiceDateTime: timestamp (nullable = true)\n",
            "\n"
          ],
          "name": "stdout"
        }
      ]
    },
    {
      "cell_type": "markdown",
      "metadata": {
        "id": "RTrx94sap16Q"
      },
      "source": [
        "### **Anomalies Check**"
      ]
    },
    {
      "cell_type": "markdown",
      "metadata": {
        "id": "0EEqio1up_73"
      },
      "source": [
        "#### Syntactical Anomalies"
      ]
    },
    {
      "cell_type": "code",
      "metadata": {
        "colab": {
          "base_uri": "https://localhost:8080/"
        },
        "id": "nBr-ZPRCpOSR",
        "outputId": "9920bffc-1695-437f-f711-a3533212b15c"
      },
      "source": [
        "# Check country distinct values.\n",
        "dt_final.select(\"Country\").distinct().show()"
      ],
      "execution_count": 20,
      "outputs": [
        {
          "output_type": "stream",
          "text": [
            "+------------------+\n",
            "|           Country|\n",
            "+------------------+\n",
            "|            Sweden|\n",
            "|         Singapore|\n",
            "|           Germany|\n",
            "|               RSA|\n",
            "|            France|\n",
            "|            Greece|\n",
            "|European Community|\n",
            "|           Belgium|\n",
            "|           Finland|\n",
            "|             Malta|\n",
            "|       Unspecified|\n",
            "|             Italy|\n",
            "|              EIRE|\n",
            "|         Lithuania|\n",
            "|            Norway|\n",
            "|             Spain|\n",
            "|             EIREs|\n",
            "|           Denmark|\n",
            "|         Hong Kong|\n",
            "|           Iceland|\n",
            "+------------------+\n",
            "only showing top 20 rows\n",
            "\n"
          ],
          "name": "stdout"
        }
      ]
    },
    {
      "cell_type": "code",
      "metadata": {
        "colab": {
          "base_uri": "https://localhost:8080/"
        },
        "id": "FpPlvzCpqacU",
        "outputId": "d2201dd3-56dc-4ec4-dbc1-3abf952be5e7"
      },
      "source": [
        "# convert EIREs to EIRE\n",
        "from pyspark.sql.functions import when\n",
        "dt_temp_eire = dt_final.withColumn(\"CountryUpdate\", when(dt_final['Country'] == 'EIREs', 'EIRE').otherwise(dt_final['Country']))\n",
        "dt_temp_eire.select(\"CountryUpdate\").distinct().show()\n"
      ],
      "execution_count": 21,
      "outputs": [
        {
          "output_type": "stream",
          "text": [
            "+------------------+\n",
            "|     CountryUpdate|\n",
            "+------------------+\n",
            "|            Sweden|\n",
            "|         Singapore|\n",
            "|           Germany|\n",
            "|               RSA|\n",
            "|            France|\n",
            "|            Greece|\n",
            "|European Community|\n",
            "|           Belgium|\n",
            "|           Finland|\n",
            "|             Malta|\n",
            "|       Unspecified|\n",
            "|             Italy|\n",
            "|              EIRE|\n",
            "|         Lithuania|\n",
            "|            Norway|\n",
            "|             Spain|\n",
            "|           Denmark|\n",
            "|         Hong Kong|\n",
            "|           Iceland|\n",
            "|            Israel|\n",
            "+------------------+\n",
            "only showing top 20 rows\n",
            "\n"
          ],
          "name": "stdout"
        }
      ]
    },
    {
      "cell_type": "code",
      "metadata": {
        "colab": {
          "base_uri": "https://localhost:8080/"
        },
        "id": "vPeefA61rHk4",
        "outputId": "a47f8032-994e-46bc-aab8-892e54b947d3"
      },
      "source": [
        "#drop column and rename CountryUpdate to Country\n",
        "dt_final_eire = dt_temp_eire.drop(\"Country\").withColumnRenamed('CountryUpdate', 'Country')\n",
        "dt_final_eire.show(5)"
      ],
      "execution_count": 22,
      "outputs": [
        {
          "output_type": "stream",
          "text": [
            "+---------+---------+--------------------+--------+---------+----------+-------------------+--------------+\n",
            "|InvoiceNo|StockCode|         Description|Quantity|UnitPrice|CustomerID|    InvoiceDateTime|       Country|\n",
            "+---------+---------+--------------------+--------+---------+----------+-------------------+--------------+\n",
            "|   536365|   85123A|WHITE HANGING HEA...|       6|     2.55|   17850.0|2018-12-01 08:26:00|United Kingdom|\n",
            "|   536365|    71053| WHITE METAL LANTERN|       6|     3.39|   17850.0|2018-12-01 08:26:00|United Kingdom|\n",
            "|   536365|   84406B|CREAM CUPID HEART...|       8|     2.75|   17850.0|2018-12-01 08:26:00|United Kingdom|\n",
            "|   536365|   84029G|KNITTED UNION FLA...|       6|     3.39|   17850.0|2018-12-01 08:26:00|United Kingdom|\n",
            "|   536365|   84029E|RED WOOLLY HOTTIE...|       6|     3.39|   17850.0|2018-12-01 08:26:00|United Kingdom|\n",
            "+---------+---------+--------------------+--------+---------+----------+-------------------+--------------+\n",
            "only showing top 5 rows\n",
            "\n"
          ],
          "name": "stdout"
        }
      ]
    },
    {
      "cell_type": "markdown",
      "metadata": {
        "id": "dTwKfzrRreaB"
      },
      "source": [
        "#### Semantic Anomalies"
      ]
    },
    {
      "cell_type": "markdown",
      "metadata": {
        "id": "ZtRS3VBIrnDh"
      },
      "source": [
        "StockCode: Product (item) code. Nominal, a 5-digit integral number uniquely assigned to each distinct product."
      ]
    },
    {
      "cell_type": "code",
      "metadata": {
        "colab": {
          "base_uri": "https://localhost:8080/"
        },
        "id": "kFIGaEavr1Ju",
        "outputId": "74442c1f-7100-4091-8931-e7b7ec89f4bf"
      },
      "source": [
        "dt_final_eire.count()"
      ],
      "execution_count": 23,
      "outputs": [
        {
          "output_type": "execute_result",
          "data": {
            "text/plain": [
              "541909"
            ]
          },
          "metadata": {
            "tags": []
          },
          "execution_count": 23
        }
      ]
    },
    {
      "cell_type": "code",
      "metadata": {
        "colab": {
          "base_uri": "https://localhost:8080/"
        },
        "id": "khhtwPhyrf4I",
        "outputId": "7c87794e-9fd0-4c0c-8b06-1c80614d12a7"
      },
      "source": [
        "# Use regular expressions to filter correct data in stockcode column\n",
        "dt_final_eire.filter(dt_final_eire[\"Stockcode\"].rlike(\"^[0-9]{5}$\")).count()"
      ],
      "execution_count": 25,
      "outputs": [
        {
          "output_type": "execute_result",
          "data": {
            "text/plain": [
              "487036"
            ]
          },
          "metadata": {
            "tags": []
          },
          "execution_count": 25
        }
      ]
    },
    {
      "cell_type": "code",
      "metadata": {
        "colab": {
          "base_uri": "https://localhost:8080/"
        },
        "id": "eIRtE0XCs5_p",
        "outputId": "3bea083f-c7ec-4859-f7e4-13149c97616e"
      },
      "source": [
        "#show data incorrect\n",
        "dt_correct_stockcode = dt_final_eire.filter(dt_final_eire[\"Stockcode\"].rlike(\"^[0-9]{5}$\"))\n",
        "dt_incorrect_stockcode = dt_final_eire.subtract(dt_correct_stockcode)\n",
        "dt_incorrect_stockcode.show(5)"
      ],
      "execution_count": 26,
      "outputs": [
        {
          "output_type": "stream",
          "text": [
            "+---------+---------+--------------------+--------+---------+----------+-------------------+--------------+\n",
            "|InvoiceNo|StockCode|         Description|Quantity|UnitPrice|CustomerID|    InvoiceDateTime|       Country|\n",
            "+---------+---------+--------------------+--------+---------+----------+-------------------+--------------+\n",
            "|   540122|   84926E|FLOWERS TILE COASTER|      96|     0.42|   13694.0|2019-01-05 10:39:00|United Kingdom|\n",
            "|   542936|   84596G|SMALL CHOCOLATES ...|       1|     1.25|      null|2019-02-02 11:10:00|United Kingdom|\n",
            "|   539479|   84997B|RED 3 PIECE RETRO...|       1|     3.75|      null|2018-12-19 15:20:00|United Kingdom|\n",
            "|   545308|   84406B|CREAM CUPID HEART...|       1|     4.15|   14656.0|2019-03-01 13:19:00|United Kingdom|\n",
            "|   576687|   85099B|JUMBO BAG RED RET...|       3|     2.08|   13558.0|2019-11-16 12:13:00|United Kingdom|\n",
            "+---------+---------+--------------------+--------+---------+----------+-------------------+--------------+\n",
            "only showing top 5 rows\n",
            "\n"
          ],
          "name": "stdout"
        }
      ]
    },
    {
      "cell_type": "code",
      "metadata": {
        "id": "6jGTN91wtK0Y"
      },
      "source": [
        "# delete the last character of stockcode\n",
        "from pyspark.sql.functions import regexp_replace\n",
        "\n",
        "dt_temp_stockcode = dt_final_eire.withColumn(\"StockcodeUpdate\", regexp_replace(dt_final_eire['Stockcode'], r'[A-z]', ''))"
      ],
      "execution_count": 28,
      "outputs": []
    },
    {
      "cell_type": "code",
      "metadata": {
        "colab": {
          "base_uri": "https://localhost:8080/"
        },
        "id": "AlUCAjyKt3UG",
        "outputId": "22d3e68a-356b-4bb4-e6d7-cd5a53b8b5a2"
      },
      "source": [
        "# Check the result\n",
        "dt_temp_stockcode.show()"
      ],
      "execution_count": 29,
      "outputs": [
        {
          "output_type": "stream",
          "text": [
            "+---------+---------+--------------------+--------+---------+----------+-------------------+--------------+---------------+\n",
            "|InvoiceNo|StockCode|         Description|Quantity|UnitPrice|CustomerID|    InvoiceDateTime|       Country|StockcodeUpdate|\n",
            "+---------+---------+--------------------+--------+---------+----------+-------------------+--------------+---------------+\n",
            "|   536365|   85123A|WHITE HANGING HEA...|       6|     2.55|   17850.0|2018-12-01 08:26:00|United Kingdom|          85123|\n",
            "|   536365|    71053| WHITE METAL LANTERN|       6|     3.39|   17850.0|2018-12-01 08:26:00|United Kingdom|          71053|\n",
            "|   536365|   84406B|CREAM CUPID HEART...|       8|     2.75|   17850.0|2018-12-01 08:26:00|United Kingdom|          84406|\n",
            "|   536365|   84029G|KNITTED UNION FLA...|       6|     3.39|   17850.0|2018-12-01 08:26:00|United Kingdom|          84029|\n",
            "|   536365|   84029E|RED WOOLLY HOTTIE...|       6|     3.39|   17850.0|2018-12-01 08:26:00|United Kingdom|          84029|\n",
            "|   536365|    22752|SET 7 BABUSHKA NE...|       2|     7.65|   17850.0|2018-12-01 08:26:00|United Kingdom|          22752|\n",
            "|   536365|    21730|GLASS STAR FROSTE...|       6|     4.25|   17850.0|2018-12-01 08:26:00|United Kingdom|          21730|\n",
            "|   536366|    22633|HAND WARMER UNION...|       6|     1.85|   17850.0|2018-12-01 08:28:00|United Kingdom|          22633|\n",
            "|   536366|    22632|HAND WARMER RED P...|       6|     1.85|   17850.0|2018-12-01 08:28:00|United Kingdom|          22632|\n",
            "|   536367|    84879|ASSORTED COLOUR B...|      32|     1.69|   13047.0|2018-12-01 08:34:00|United Kingdom|          84879|\n",
            "|   536367|    22745|POPPY'S PLAYHOUSE...|       6|      2.1|   13047.0|2018-12-01 08:34:00|United Kingdom|          22745|\n",
            "|   536367|    22748|POPPY'S PLAYHOUSE...|       6|      2.1|   13047.0|2018-12-01 08:34:00|United Kingdom|          22748|\n",
            "|   536367|    22749|FELTCRAFT PRINCES...|       8|     3.75|   13047.0|2018-12-01 08:34:00|United Kingdom|          22749|\n",
            "|   536367|    22310|IVORY KNITTED MUG...|       6|     1.65|   13047.0|2018-12-01 08:34:00|United Kingdom|          22310|\n",
            "|   536367|    84969|BOX OF 6 ASSORTED...|       6|     4.25|   13047.0|2018-12-01 08:34:00|United Kingdom|          84969|\n",
            "|   536367|    22623|BOX OF VINTAGE JI...|       3|     4.95|   13047.0|2018-12-01 08:34:00|United Kingdom|          22623|\n",
            "|   536367|    22622|BOX OF VINTAGE AL...|       2|     9.95|   13047.0|2018-12-01 08:34:00|United Kingdom|          22622|\n",
            "|   536367|    21754|HOME BUILDING BLO...|       3|     5.95|   13047.0|2018-12-01 08:34:00|United Kingdom|          21754|\n",
            "|   536367|    21755|LOVE BUILDING BLO...|       3|     5.95|   13047.0|2018-12-01 08:34:00|United Kingdom|          21755|\n",
            "|   536367|    21777|RECIPE BOX WITH M...|       4|     7.95|   13047.0|2018-12-01 08:34:00|United Kingdom|          21777|\n",
            "+---------+---------+--------------------+--------+---------+----------+-------------------+--------------+---------------+\n",
            "only showing top 20 rows\n",
            "\n"
          ],
          "name": "stdout"
        }
      ]
    },
    {
      "cell_type": "code",
      "metadata": {
        "colab": {
          "base_uri": "https://localhost:8080/"
        },
        "id": "Z90UKg3Et7hb",
        "outputId": "3a93bf91-a4f5-4910-883a-e7acb1383d64"
      },
      "source": [
        "# Create final Dataframe\n",
        "dt_final_stockcode = dt_temp_stockcode.drop(\"Stockcode\").withColumnRenamed('StockcodeUpdate', 'StockCode')\n",
        "dt_final_stockcode.show(4)"
      ],
      "execution_count": 30,
      "outputs": [
        {
          "output_type": "stream",
          "text": [
            "+---------+--------------------+--------+---------+----------+-------------------+--------------+---------+\n",
            "|InvoiceNo|         Description|Quantity|UnitPrice|CustomerID|    InvoiceDateTime|       Country|StockCode|\n",
            "+---------+--------------------+--------+---------+----------+-------------------+--------------+---------+\n",
            "|   536365|WHITE HANGING HEA...|       6|     2.55|   17850.0|2018-12-01 08:26:00|United Kingdom|    85123|\n",
            "|   536365| WHITE METAL LANTERN|       6|     3.39|   17850.0|2018-12-01 08:26:00|United Kingdom|    71053|\n",
            "|   536365|CREAM CUPID HEART...|       8|     2.75|   17850.0|2018-12-01 08:26:00|United Kingdom|    84406|\n",
            "|   536365|KNITTED UNION FLA...|       6|     3.39|   17850.0|2018-12-01 08:26:00|United Kingdom|    84029|\n",
            "+---------+--------------------+--------+---------+----------+-------------------+--------------+---------+\n",
            "only showing top 4 rows\n",
            "\n"
          ],
          "name": "stdout"
        }
      ]
    },
    {
      "cell_type": "markdown",
      "metadata": {
        "id": "KaycozHZuKnR"
      },
      "source": [
        "#### Missing values"
      ]
    },
    {
      "cell_type": "code",
      "metadata": {
        "colab": {
          "base_uri": "https://localhost:8080/"
        },
        "id": "neZiOWXnt89X",
        "outputId": "1b705538-cb1b-4ead-c582-3eeb69430100"
      },
      "source": [
        "# Check quantity missing values in each column\n",
        "from pyspark.sql.functions import col,sum\n",
        "\n",
        "dt_final_stockcode.select(*[sum(col(c).isNull().cast(\"int\")).alias(c) for c in dt_final_stockcode.columns]).show()"
      ],
      "execution_count": 32,
      "outputs": [
        {
          "output_type": "stream",
          "text": [
            "+---------+-----------+--------+---------+----------+---------------+-------+---------+\n",
            "|InvoiceNo|Description|Quantity|UnitPrice|CustomerID|InvoiceDateTime|Country|StockCode|\n",
            "+---------+-----------+--------+---------+----------+---------------+-------+---------+\n",
            "|        0|       1454|       0|        0|    135080|              0|      0|        0|\n",
            "+---------+-----------+--------+---------+----------+---------------+-------+---------+\n",
            "\n"
          ],
          "name": "stdout"
        }
      ]
    },
    {
      "cell_type": "code",
      "metadata": {
        "colab": {
          "base_uri": "https://localhost:8080/"
        },
        "id": "1UZyYgGsu7nx",
        "outputId": "9f87a5b5-ae66-489c-9395-5ced7de473f5"
      },
      "source": [
        "# Check null in CustomerID \n",
        "dt_final_stockcode.where( dt_final_stockcode['CustomerID'].isNull() ).show()"
      ],
      "execution_count": 38,
      "outputs": [
        {
          "output_type": "stream",
          "text": [
            "+---------+--------------------+--------+---------+----------+-------------------+--------------+---------+\n",
            "|InvoiceNo|         Description|Quantity|UnitPrice|CustomerID|    InvoiceDateTime|       Country|StockCode|\n",
            "+---------+--------------------+--------+---------+----------+-------------------+--------------+---------+\n",
            "|   536414|                null|      56|      0.0|      null|2018-12-01 11:52:00|United Kingdom|    22139|\n",
            "|   536544|DECORATIVE ROSE B...|       1|     2.51|      null|2018-12-01 14:32:00|United Kingdom|    21773|\n",
            "|   536544|DECORATIVE CATS B...|       2|     2.51|      null|2018-12-01 14:32:00|United Kingdom|    21774|\n",
            "|   536544|  POLKADOT RAIN HAT |       4|     0.85|      null|2018-12-01 14:32:00|United Kingdom|    21786|\n",
            "|   536544|RAIN PONCHO RETRO...|       2|     1.66|      null|2018-12-01 14:32:00|United Kingdom|    21787|\n",
            "|   536544|  VINTAGE SNAP CARDS|       9|     1.66|      null|2018-12-01 14:32:00|United Kingdom|    21790|\n",
            "|   536544|VINTAGE HEADS AND...|       2|     2.51|      null|2018-12-01 14:32:00|United Kingdom|    21791|\n",
            "|   536544|CHRISTMAS TREE DE...|      10|     0.43|      null|2018-12-01 14:32:00|United Kingdom|    21801|\n",
            "|   536544|CHRISTMAS TREE HE...|       9|     0.43|      null|2018-12-01 14:32:00|United Kingdom|    21802|\n",
            "|   536544|CHRISTMAS TREE ST...|      11|     0.43|      null|2018-12-01 14:32:00|United Kingdom|    21803|\n",
            "|   536544|CHRISTMAS HANGING...|       1|     2.51|      null|2018-12-01 14:32:00|United Kingdom|    21809|\n",
            "|   536544|CHRISTMAS HANGING...|       3|     2.51|      null|2018-12-01 14:32:00|United Kingdom|    21810|\n",
            "|   536544|CHRISTMAS HANGING...|       1|     2.51|      null|2018-12-01 14:32:00|United Kingdom|    21811|\n",
            "|   536544|GLITTER STAR GARL...|       1|     7.62|      null|2018-12-01 14:32:00|United Kingdom|    21821|\n",
            "|   536544|GLITTER CHRISTMAS...|       1|     4.21|      null|2018-12-01 14:32:00|United Kingdom|    21822|\n",
            "|   536544|PAINTED METAL HEA...|       2|     2.98|      null|2018-12-01 14:32:00|United Kingdom|    21823|\n",
            "|   536544|   RED RETROSPOT MUG|       2|     5.91|      null|2018-12-01 14:32:00|United Kingdom|    21844|\n",
            "|   536544|LILAC DIAMANTE PE...|       1|     4.21|      null|2018-12-01 14:32:00|United Kingdom|    21851|\n",
            "|   536544|I CAN ONLY PLEASE...|       1|     3.36|      null|2018-12-01 14:32:00|United Kingdom|    21870|\n",
            "|   536544| SAVE THE PLANET MUG|       5|     3.36|      null|2018-12-01 14:32:00|United Kingdom|    21871|\n",
            "+---------+--------------------+--------+---------+----------+-------------------+--------------+---------+\n",
            "only showing top 20 rows\n",
            "\n"
          ],
          "name": "stdout"
        }
      ]
    },
    {
      "cell_type": "code",
      "metadata": {
        "colab": {
          "base_uri": "https://localhost:8080/"
        },
        "id": "ntD4R838u_0E",
        "outputId": "175cf4ca-8a25-4793-e190-a8884ca0e72a"
      },
      "source": [
        "#convert null to -1\n",
        "dt_customer_notnull = dt_final_stockcode.withColumn(\"CustomerIDUpdate\", when(dt_final_stockcode['customerID'].isNull(), -1).otherwise(dt_final_stockcode['customerID']))\n",
        "dt_final = dt_customer_notnull.drop('customerID').withColumnRenamed('CustomerIDUpdate','customerID')\n",
        "dt_final.show()"
      ],
      "execution_count": 42,
      "outputs": [
        {
          "output_type": "stream",
          "text": [
            "+---------+--------------------+--------+---------+-------------------+--------------+---------+----------+\n",
            "|InvoiceNo|         Description|Quantity|UnitPrice|    InvoiceDateTime|       Country|StockCode|customerID|\n",
            "+---------+--------------------+--------+---------+-------------------+--------------+---------+----------+\n",
            "|   536365|WHITE HANGING HEA...|       6|     2.55|2018-12-01 08:26:00|United Kingdom|    85123|   17850.0|\n",
            "|   536365| WHITE METAL LANTERN|       6|     3.39|2018-12-01 08:26:00|United Kingdom|    71053|   17850.0|\n",
            "|   536365|CREAM CUPID HEART...|       8|     2.75|2018-12-01 08:26:00|United Kingdom|    84406|   17850.0|\n",
            "|   536365|KNITTED UNION FLA...|       6|     3.39|2018-12-01 08:26:00|United Kingdom|    84029|   17850.0|\n",
            "|   536365|RED WOOLLY HOTTIE...|       6|     3.39|2018-12-01 08:26:00|United Kingdom|    84029|   17850.0|\n",
            "|   536365|SET 7 BABUSHKA NE...|       2|     7.65|2018-12-01 08:26:00|United Kingdom|    22752|   17850.0|\n",
            "|   536365|GLASS STAR FROSTE...|       6|     4.25|2018-12-01 08:26:00|United Kingdom|    21730|   17850.0|\n",
            "|   536366|HAND WARMER UNION...|       6|     1.85|2018-12-01 08:28:00|United Kingdom|    22633|   17850.0|\n",
            "|   536366|HAND WARMER RED P...|       6|     1.85|2018-12-01 08:28:00|United Kingdom|    22632|   17850.0|\n",
            "|   536367|ASSORTED COLOUR B...|      32|     1.69|2018-12-01 08:34:00|United Kingdom|    84879|   13047.0|\n",
            "|   536367|POPPY'S PLAYHOUSE...|       6|      2.1|2018-12-01 08:34:00|United Kingdom|    22745|   13047.0|\n",
            "|   536367|POPPY'S PLAYHOUSE...|       6|      2.1|2018-12-01 08:34:00|United Kingdom|    22748|   13047.0|\n",
            "|   536367|FELTCRAFT PRINCES...|       8|     3.75|2018-12-01 08:34:00|United Kingdom|    22749|   13047.0|\n",
            "|   536367|IVORY KNITTED MUG...|       6|     1.65|2018-12-01 08:34:00|United Kingdom|    22310|   13047.0|\n",
            "|   536367|BOX OF 6 ASSORTED...|       6|     4.25|2018-12-01 08:34:00|United Kingdom|    84969|   13047.0|\n",
            "|   536367|BOX OF VINTAGE JI...|       3|     4.95|2018-12-01 08:34:00|United Kingdom|    22623|   13047.0|\n",
            "|   536367|BOX OF VINTAGE AL...|       2|     9.95|2018-12-01 08:34:00|United Kingdom|    22622|   13047.0|\n",
            "|   536367|HOME BUILDING BLO...|       3|     5.95|2018-12-01 08:34:00|United Kingdom|    21754|   13047.0|\n",
            "|   536367|LOVE BUILDING BLO...|       3|     5.95|2018-12-01 08:34:00|United Kingdom|    21755|   13047.0|\n",
            "|   536367|RECIPE BOX WITH M...|       4|     7.95|2018-12-01 08:34:00|United Kingdom|    21777|   13047.0|\n",
            "+---------+--------------------+--------+---------+-------------------+--------------+---------+----------+\n",
            "only showing top 20 rows\n",
            "\n"
          ],
          "name": "stdout"
        }
      ]
    },
    {
      "cell_type": "code",
      "metadata": {
        "colab": {
          "base_uri": "https://localhost:8080/"
        },
        "id": "old4OHzAwL7J",
        "outputId": "b3a6fbb3-ca02-4849-8044-fd3f6d2abf7c"
      },
      "source": [
        "#use Spark SQL check value\n",
        "dt_final.createOrReplaceTempView(\"table\")\n",
        "dt_sql = spark.sql(\"SELECT * FROM table where customerID < 0 \")\n",
        "dt_sql.show()"
      ],
      "execution_count": 45,
      "outputs": [
        {
          "output_type": "stream",
          "text": [
            "+---------+--------------------+--------+---------+-------------------+--------------+---------+----------+\n",
            "|InvoiceNo|         Description|Quantity|UnitPrice|    InvoiceDateTime|       Country|StockCode|customerID|\n",
            "+---------+--------------------+--------+---------+-------------------+--------------+---------+----------+\n",
            "|   536414|                null|      56|      0.0|2018-12-01 11:52:00|United Kingdom|    22139|      -1.0|\n",
            "|   536544|DECORATIVE ROSE B...|       1|     2.51|2018-12-01 14:32:00|United Kingdom|    21773|      -1.0|\n",
            "|   536544|DECORATIVE CATS B...|       2|     2.51|2018-12-01 14:32:00|United Kingdom|    21774|      -1.0|\n",
            "|   536544|  POLKADOT RAIN HAT |       4|     0.85|2018-12-01 14:32:00|United Kingdom|    21786|      -1.0|\n",
            "|   536544|RAIN PONCHO RETRO...|       2|     1.66|2018-12-01 14:32:00|United Kingdom|    21787|      -1.0|\n",
            "|   536544|  VINTAGE SNAP CARDS|       9|     1.66|2018-12-01 14:32:00|United Kingdom|    21790|      -1.0|\n",
            "|   536544|VINTAGE HEADS AND...|       2|     2.51|2018-12-01 14:32:00|United Kingdom|    21791|      -1.0|\n",
            "|   536544|CHRISTMAS TREE DE...|      10|     0.43|2018-12-01 14:32:00|United Kingdom|    21801|      -1.0|\n",
            "|   536544|CHRISTMAS TREE HE...|       9|     0.43|2018-12-01 14:32:00|United Kingdom|    21802|      -1.0|\n",
            "|   536544|CHRISTMAS TREE ST...|      11|     0.43|2018-12-01 14:32:00|United Kingdom|    21803|      -1.0|\n",
            "|   536544|CHRISTMAS HANGING...|       1|     2.51|2018-12-01 14:32:00|United Kingdom|    21809|      -1.0|\n",
            "|   536544|CHRISTMAS HANGING...|       3|     2.51|2018-12-01 14:32:00|United Kingdom|    21810|      -1.0|\n",
            "|   536544|CHRISTMAS HANGING...|       1|     2.51|2018-12-01 14:32:00|United Kingdom|    21811|      -1.0|\n",
            "|   536544|GLITTER STAR GARL...|       1|     7.62|2018-12-01 14:32:00|United Kingdom|    21821|      -1.0|\n",
            "|   536544|GLITTER CHRISTMAS...|       1|     4.21|2018-12-01 14:32:00|United Kingdom|    21822|      -1.0|\n",
            "|   536544|PAINTED METAL HEA...|       2|     2.98|2018-12-01 14:32:00|United Kingdom|    21823|      -1.0|\n",
            "|   536544|   RED RETROSPOT MUG|       2|     5.91|2018-12-01 14:32:00|United Kingdom|    21844|      -1.0|\n",
            "|   536544|LILAC DIAMANTE PE...|       1|     4.21|2018-12-01 14:32:00|United Kingdom|    21851|      -1.0|\n",
            "|   536544|I CAN ONLY PLEASE...|       1|     3.36|2018-12-01 14:32:00|United Kingdom|    21870|      -1.0|\n",
            "|   536544| SAVE THE PLANET MUG|       5|     3.36|2018-12-01 14:32:00|United Kingdom|    21871|      -1.0|\n",
            "+---------+--------------------+--------+---------+-------------------+--------------+---------+----------+\n",
            "only showing top 20 rows\n",
            "\n"
          ],
          "name": "stdout"
        }
      ]
    }
  ]
}